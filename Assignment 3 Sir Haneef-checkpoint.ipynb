{
 "cells": [
  {
   "cell_type": "code",
   "execution_count": 102,
   "id": "b4c241a8",
   "metadata": {},
   "outputs": [
    {
     "name": "stdout",
     "output_type": "stream",
     "text": [
      "HEADING         VALUE\n",
      "Name              Abc\n",
      "DOB        2000-01-01\n",
      "RollNo              1\n",
      "marks              63\n",
      "dtype: object\n"
     ]
    }
   ],
   "source": [
    "#  TASK 01\n",
    "    import pandas as pd\n",
    "    \n",
    "        \n",
    "mydict = {'HEADING':'VALUE', 'Name': 'Abc', 'DOB':'2000-01-01', 'RollNo': 1, 'marks': 63}\n",
    "  \n",
    "s = pd.Series(mydict)\n",
    "print(s)\n",
    "    \n",
    "\n",
    "\n"
   ]
  },
  {
   "cell_type": "code",
   "execution_count": 103,
   "id": "9217b7be",
   "metadata": {},
   "outputs": [
    {
     "name": "stdout",
     "output_type": "stream",
     "text": [
      "  PLAYER  RUNS  BALLS  MINUTES  DOTS\n",
      "0    ABC    35     28       32     6\n",
      "1    DEF    30     27       24     3\n",
      "2    GER     2      3        6     1\n",
      "3    IJK    56     58       65    13\n"
     ]
    }
   ],
   "source": [
    "# Task 02:\n",
    "import pandas as pd\n",
    "chart = {\n",
    "          'PLAYER':['ABC','DEF', 'GER', 'IJK'],\n",
    "          'RUNS':[35, 30, 2, 56],\n",
    "          'BALLS':[28, 27, 3, 58],\n",
    "          'MINUTES':[32, 24, 6, 65],\n",
    "          'DOTS':[6, 3, 1, 13]\n",
    "}\n",
    "df = pd.DataFrame(chart)\n",
    "print(df)\n"
   ]
  },
  {
   "cell_type": "code",
   "execution_count": 121,
   "id": "d92c4459",
   "metadata": {},
   "outputs": [
    {
     "name": "stdout",
     "output_type": "stream",
     "text": [
      "  PLAYER  RUNS  BALLS  MINUTES  DOTS\n",
      "2    GER     2      3        6     1\n",
      "1    DEF    30     27       24     3\n",
      "0    ABC    35     28       32     6\n",
      "3    IJK    56     58       65    13\n"
     ]
    }
   ],
   "source": [
    "# TASK A\n",
    "import pandas as pd\n",
    "chart = {\n",
    "          'PLAYER':['ABC','DEF', 'GER', 'IJK'],\n",
    "          'RUNS':[35, 30, 2, 56],\n",
    "          'BALLS':[28, 27, 3, 58],\n",
    "          'MINUTES':[32, 24, 6, 65],\n",
    "          'DOTS':[6, 3, 1, 13]\n",
    "}\n",
    "df = pd.DataFrame(chart)\n",
    "df.sort_index()\n",
    "print(df.sort_values('RUNS'))\n"
   ]
  },
  {
   "cell_type": "code",
   "execution_count": 123,
   "id": "8c76dedf",
   "metadata": {},
   "outputs": [
    {
     "name": "stdout",
     "output_type": "stream",
     "text": [
      "  PLAYER  RUNS  BALLS  MINUTES  DOTS\n",
      "0    ABC    35     28       32     6\n",
      "3    IJK    56     58       65    13\n"
     ]
    }
   ],
   "source": [
    "# Task B:\n",
    "import pandas as pd\n",
    "chart = {\n",
    "          'PLAYER':['ABC','DEF', 'GER', 'IJK'],\n",
    "          'RUNS':[35, 30, 2, 56],\n",
    "          'BALLS':[28, 27, 3, 58],\n",
    "          'MINUTES':[32, 24, 6, 65],\n",
    "          'DOTS':[6, 3, 1, 13]\n",
    "}\n",
    "\n",
    "chart=df[(df['RUNS'] > 30) & (df['MINUTES'] > 30)]\n",
    "df = pd.DataFrame(chart)\n",
    "df.sort_index()\n",
    "print(df.sort_values('RUNS'))"
   ]
  },
  {
   "cell_type": "code",
   "execution_count": null,
   "id": "a79a502b",
   "metadata": {},
   "outputs": [],
   "source": []
  }
 ],
 "metadata": {
  "kernelspec": {
   "display_name": "Python 3 (ipykernel)",
   "language": "python",
   "name": "python3"
  },
  "language_info": {
   "codemirror_mode": {
    "name": "ipython",
    "version": 3
   },
   "file_extension": ".py",
   "mimetype": "text/x-python",
   "name": "python",
   "nbconvert_exporter": "python",
   "pygments_lexer": "ipython3",
   "version": "3.9.13"
  }
 },
 "nbformat": 4,
 "nbformat_minor": 5
}
