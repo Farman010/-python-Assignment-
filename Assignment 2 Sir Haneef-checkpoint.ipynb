{
 "cells": [
  {
   "cell_type": "code",
   "execution_count": 2,
   "id": "cedd0ed5",
   "metadata": {},
   "outputs": [
    {
     "name": "stdout",
     "output_type": "stream",
     "text": [
      "Enter the Zip_Code: 69000\n",
      "the City is: Mirpurkhas\n"
     ]
    }
   ],
   "source": [
    "# TASK 01\n",
    "myDict = {\n",
    "    \"69000\": \"Mirpurkhas\",\n",
    "    \"68050\": \"Tando Adam\",\n",
    "    \"70010\": \"Tando allahyar\",\n",
    "    \"71000\": \"Latifabad\",\n",
    "    \n",
    "}\n",
    "\n",
    "a = input(\"Enter the Zip_Code: \")\n",
    "print(\"the City is:\",myDict[a])"
   ]
  },
  {
   "cell_type": "code",
   "execution_count": 11,
   "id": "06d90d09",
   "metadata": {},
   "outputs": [
    {
     "name": "stdout",
     "output_type": "stream",
     "text": [
      "How many student are there: 1\n",
      "Enter name Of Student: ff\n",
      "Enter Marks: 32\n",
      "Enter Marks: 55\n",
      "Enter Marks: 63\n",
      "Enter Marks: 86\n",
      "Enter Marks: 22\n",
      "Percentage:  110.0\n",
      "Percentage:  110.0\n",
      "Percentage:  110.0\n",
      "Percentage:  110.0\n",
      "Percentage:  110.0\n",
      "Created Student Dictionary of Each Students:  {'ff': [32, 55, 63, 86, 22]}\n"
     ]
    }
   ],
   "source": [
    "# Task 02\n",
    "student  = dict()\n",
    "n = int(input(\"How many student are there: \"))\n",
    "for i in range(n):\n",
    "    sname = input (\"Enter name Of Student: \")\n",
    "    marks = []\n",
    "    for j in range(5):\n",
    "        mark = int(input(\"Enter Marks: \"))\n",
    "        marks.append(mark)\n",
    "    student[sname] = marks \n",
    "    \n",
    "    for k in range(5):\n",
    "        k = mark * 500 / 100\n",
    "        print(\"Percentage: \",k)\n",
    "print(\"Created Student Dictionary of Each Students: \", student)    \n"
   ]
  },
  {
   "cell_type": "code",
   "execution_count": null,
   "id": "5dd277ce",
   "metadata": {},
   "outputs": [],
   "source": []
  },
  {
   "cell_type": "code",
   "execution_count": null,
   "id": "c9ea0a0c",
   "metadata": {},
   "outputs": [],
   "source": []
  },
  {
   "cell_type": "code",
   "execution_count": null,
   "id": "5e98c074",
   "metadata": {},
   "outputs": [],
   "source": []
  }
 ],
 "metadata": {
  "kernelspec": {
   "display_name": "Python 3 (ipykernel)",
   "language": "python",
   "name": "python3"
  },
  "language_info": {
   "codemirror_mode": {
    "name": "ipython",
    "version": 3
   },
   "file_extension": ".py",
   "mimetype": "text/x-python",
   "name": "python",
   "nbconvert_exporter": "python",
   "pygments_lexer": "ipython3",
   "version": "3.9.13"
  }
 },
 "nbformat": 4,
 "nbformat_minor": 5
}
