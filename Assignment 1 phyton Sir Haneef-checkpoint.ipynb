{
 "cells": [
  {
   "cell_type": "code",
   "execution_count": 27,
   "id": "ea960f0b",
   "metadata": {},
   "outputs": [
    {
     "name": "stdout",
     "output_type": "stream",
     "text": [
      "1\n",
      "2\n",
      "3\n",
      "4\n",
      "5\n",
      "6\n",
      "7\n",
      "8\n",
      "9\n",
      "10\n",
      "11\n"
     ]
    }
   ],
   "source": [
    "for i in range(1,48):\n",
    "    if i == 12:\n",
    "        break\n",
    "    print(i)\n",
    "        \n",
    "        \n",
    "   "
   ]
  },
  {
   "cell_type": "code",
   "execution_count": 42,
   "id": "335836f5",
   "metadata": {},
   "outputs": [
    {
     "name": "stdout",
     "output_type": "stream",
     "text": [
      "2\n",
      "3\n",
      "6\n",
      "7\n",
      "8\n",
      "9\n",
      "10\n",
      "11\n",
      "12\n",
      "13\n",
      "14\n",
      "16\n",
      "17\n",
      "18\n",
      "19\n",
      "20\n",
      "21\n",
      "22\n",
      "23\n",
      "24\n",
      "25\n"
     ]
    }
   ],
   "source": [
    "for i in range(1,48):\n",
    "    if (i) == 1:\n",
    "        continue\n",
    "    elif i == 4:\n",
    "        continue\n",
    "    elif i == 5:\n",
    "        continue\n",
    "    elif i == 15:\n",
    "        continue\n",
    "    elif i == 26:\n",
    "        break\n",
    "        \n",
    "    print(i)\n",
    "        \n",
    "\n",
    "   \n",
    "        \n",
    "        \n",
    "        \n",
    "   "
   ]
  },
  {
   "cell_type": "code",
   "execution_count": 54,
   "id": "95babcca",
   "metadata": {},
   "outputs": [
    {
     "name": "stdout",
     "output_type": "stream",
     "text": [
      "Enter Roll Number: 11\n",
      "Enter Name:Farman\n",
      "Enter Number Pyton_Programming: 45\n",
      "Enter Number Communication_Network: 66\n",
      "Enter Number Professional_pratice: 87\n",
      "Enter Number Data_Base: 45\n",
      "Enter Number Object_Oriented_Anaylsis_Design: 67\n",
      "Enter Number Linear_Algebra: 76\n",
      "Obtained_Marks 386\n",
      "Total 600\n",
      "64.33333333333333\n"
     ]
    }
   ],
   "source": [
    "Roll_No = input(\"Enter Roll Number: \")\n",
    "Name = input(\"Enter Name:\")\n",
    "Pyton_Programming = input(\"Enter Number Pyton_Programming: \")\n",
    "phy = int(Pyton_Programming)\n",
    "Communication_Network = input(\"Enter Number Communication_Network: \")\n",
    "Comm = int(Communication_Network)\n",
    "Professional_pratice = input(\"Enter Number Professional_pratice: \")\n",
    "Pp = int(Professional_pratice)\n",
    "Data_Base = input(\"Enter Number Data_Base: \")\n",
    "DB = int(Data_Base)\n",
    "OOAD = input(\"Enter Number Object_Oriented_Anaylsis_Design: \")\n",
    "ooad = int(OOAD)\n",
    "Linear_Algebra = input(\"Enter Number Linear_Algebra: \")\n",
    "lagb = int(Linear_Algebra)\n",
    "Obtained_Marks = phy + Comm + Pp + DB + ooad +lagb\n",
    "print( \"Obtained_Marks\", Obtained_Marks)\n",
    "print(\"Total 600\")\n",
    "Precentage = Obtained_Marks / 600 * 100\n",
    "print(Precentage)\n",
    "\n"
   ]
  },
  {
   "cell_type": "markdown",
   "id": "a27465a2",
   "metadata": {},
   "source": [
    "##### "
   ]
  }
 ],
 "metadata": {
  "kernelspec": {
   "display_name": "Python 3 (ipykernel)",
   "language": "python",
   "name": "python3"
  },
  "language_info": {
   "codemirror_mode": {
    "name": "ipython",
    "version": 3
   },
   "file_extension": ".py",
   "mimetype": "text/x-python",
   "name": "python",
   "nbconvert_exporter": "python",
   "pygments_lexer": "ipython3",
   "version": "3.9.13"
  }
 },
 "nbformat": 4,
 "nbformat_minor": 5
}
